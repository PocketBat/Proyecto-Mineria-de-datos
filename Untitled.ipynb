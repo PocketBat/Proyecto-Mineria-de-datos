{
 "cells": [
  {
   "cell_type": "markdown",
   "id": "7df365e3",
   "metadata": {},
   "source": [
    "# <span style=\"color:red\">Regresión Lineal Bayesiana</span>"
   ]
  },
  {
   "cell_type": "markdown",
   "id": "a3af1990",
   "metadata": {},
   "source": [
    "## Referencias\n"
   ]
  },
  {
   "cell_type": "markdown",
   "id": "69ff0b7d",
   "metadata": {},
   "source": [
    "## <span style=\"color:blue\">Autor</span>\n",
    "\n",
    "Kevin Daniel Medina Cardona, kdmedinac@unal.edu.co"
   ]
  },
  {
   "cell_type": "markdown",
   "id": "e3fa65e1",
   "metadata": {},
   "source": [
    "## <span style=\"color:Blue\">Profesor</span>\n",
    "\n",
    "Alvaro Montenegro, PhD, ammontenegrod@unal.edu.co"
   ]
  },
  {
   "cell_type": "markdown",
   "id": "9bfd3d5a",
   "metadata": {},
   "source": [
    "## <span style=\"color:Blue\">Introducción </span>\n"
   ]
  },
  {
   "cell_type": "markdown",
   "id": "3dcda9bd",
   "metadata": {},
   "source": [
    "En la regresión lineal ordinaria, basada en la teoría del modelo Normal lineal, se asumen los siguientes supuestos:\n",
    "\n",
    "- La variable respuesta es continua, simétrica, y su varianza no depende de la media (homocedasticidad).\n",
    "- Los efectos de las variables explicativas sobre la media de la respuesta son de tipo aditivo.\n",
    "\n",
    "Hay muchas situaciones donde estas suposiciones son inapropiadas. Por ejemplo, cuando la respuesta es un conteo, es binaria o una proporción, cuando los efectos de las variables respuesta sobre la media, no son aditivos si no multiplicativos.\n",
    "\n",
    "Los modelos lineales generalizados extienden el modelo lineal permitiendo distribuciones con respuesta diferente a la normal y funciones diferentes a la identidad que conectan o enlazan la media de la respuesta con el predictor lineal, permitiendo efectos distintos a los aditivos."
   ]
  },
  {
   "cell_type": "markdown",
   "id": "52e4d203",
   "metadata": {},
   "source": [
    "## <span style=\"color:Blue\">Composición </span>"
   ]
  },
  {
   "cell_type": "markdown",
   "id": "a70c34c6",
   "metadata": {},
   "source": [
    "### Componente aleatoria:  \n",
    "La distribución de probabilidad que describe la variable respuesta $Y$, puede ser cualquiera perteneciente a la familia exponencial lineal. Por ejemplo, Normal, Bernoulli, Binomial, poisson, Gamma."
   ]
  },
  {
   "cell_type": "markdown",
   "id": "ca459bc5",
   "metadata": {},
   "source": [
    "### Componente sistemática:\n",
    "Variables explicatorias ya sean continuas o categoricas en un predictor lineal,\n",
    "\n",
    "$$\\eta = \\beta_0 + \\beta_1x_1 + ... + \\beta_px_p$$"
   ]
  },
  {
   "cell_type": "markdown",
   "id": "6498e89a",
   "metadata": {},
   "source": [
    "### Función de enlace:\n",
    "Función continua, monótona y dos veces diferenciable, notada generalmente por $g(.)$, la cual enlaza la media de la variable respuesta, $\\mu$, a la componente sistemática, esto es,\n",
    "$$g(\\mu) = \\beta_0 + \\beta_1x_1 + ... + \\beta_px_p$$\n"
   ]
  },
  {
   "cell_type": "markdown",
   "id": "c14a6993",
   "metadata": {},
   "source": [
    "## <span style=\"color:Blue\">Familia Exponencial Lineal </span>"
   ]
  },
  {
   "cell_type": "markdown",
   "id": "56159f6c",
   "metadata": {},
   "source": [
    "La función de densidad o la función de masa de $Y\\sim FEL(\\mu,\\phi)$ donde $\\mu$ es la media y $\\phi>0$ es el parametro de disperción, puede ser escrita como\n",
    "$$f_y(y;\\mu,\\phi)=C(y,\\phi)exp(\\frac{1}{\\phi}[y\\theta(\\mu)-b[\\theta(\\mu)]])$$"
   ]
  },
  {
   "cell_type": "markdown",
   "id": "bcb1c0cb",
   "metadata": {},
   "source": [
    "Para algunas funciones $\\theta(.), b(.)$ y $C(y,\\phi)$ la funcion generadora de momentos de Y se reduce a \n",
    "\n",
    "$$M_y(t)=E[exp(tY)]=exp(\\frac{1}{\\phi}[b(\\theta+t\\phi)-b(\\theta)])$$"
   ]
  },
  {
   "cell_type": "markdown",
   "id": "844ca3f6",
   "metadata": {},
   "source": [
    "por lo tanto, $\\mu=b'(\\theta)$ y $var(Y)=\\phi V(\\mu)$, donde,$V(.)=b''[\\theta(.)]$ es una función de varianza conocida."
   ]
  },
  {
   "cell_type": "markdown",
   "id": "071e7be7",
   "metadata": {},
   "source": [
    "### Ejemplo:\n",
    "\n",
    "Supongamos $Y\\sim Poisson(\\mu) \\mu>0$\n",
    "\n",
    "$$f_y(Y;\\mu)=\\frac{exp(-\\mu)\\mu^y}{y!}$$\n",
    "$$f_y(Y;\\mu)=exp(-\\mu)+ylog(\\mu)-log(y!)$$\n",
    "\n",
    "Con esta tranformación podemos notar lo siguiente:\n",
    "- $\\phi=1$\n",
    "- $\\theta(\\mu)=log(\\mu)$\n",
    "- $b(\\theta)=exp(\\theta)$\n",
    "- $b'(\\theta)=exp(\\theta)=\\mu$\n",
    "- $b''(\\theta)=exp(\\theta)=\\mu$"
   ]
  },
  {
   "cell_type": "markdown",
   "id": "121f21e8",
   "metadata": {},
   "source": [
    "## <span style=\"color:Blue\">Formulación del modelo </span>\n"
   ]
  },
  {
   "cell_type": "markdown",
   "id": "f2334d91",
   "metadata": {},
   "source": [
    "\n",
    "\n",
    "$$\\left\\{ \\begin{array}{lcc}\n",
    "               Y \\sim FEL(\\mu_k,\\omega^{−1}_k\\phi)\\\\\n",
    "             \\\\ g(\\mu_k) =\\beta_0+ \\beta_1x_{k1}+... +\\beta_px_{kp}=x^t_k\\beta\n",
    "             \\end{array}\n",
    "   \\right.\n",
    "$$"
   ]
  },
  {
   "cell_type": "markdown",
   "id": "3ccc92dd",
   "metadata": {},
   "source": [
    "Entonces, $E(Y_k) = \\mu_k$ and $Var(Y_k) =\\frac{\\phi }{\\omega}_kV(\\mu_k)$, donde,\n",
    "\n",
    "- $\\beta = (\\beta_0, \\beta_1, . . . , \\beta_p)^t$,  Es el vector de parametros de interes. \n",
    "- $x_k= (1, x_{k1}, . . . , x_{kp})^t$, donde $x_{kp}$ es el valos de p-esima variable explicatoria, medida sobre el k-esimo individuo.\n",
    "\n",
    "- $\\phi > 0$ Es el parametro de dispersión.\n",
    "-$\\omega_1, . . . , \\omega_n$ Son pesos conocidos y positivos.\n",
    "- $V(·)$ es la función de varianza.\n",
    "-$g(·)$ es la función de enlace, que se asume conocida, monotona y 2 veces diferenciable."
   ]
  },
  {
   "cell_type": "markdown",
   "id": "c7fae800",
   "metadata": {},
   "source": [
    "## <span style=\"color:Blue\">Curiosidad Historica </span>"
   ]
  },
  {
   "cell_type": "markdown",
   "id": "40503510",
   "metadata": {},
   "source": [
    "El término \"regresión\" fue acuñado por Francis Galton en el siglo xix para describir un fenómeno biológico. El fenómeno fue que las alturas de los descendientes de ancestros altos tienden a regresar hacia abajo, hacia un promedio normal (un fenómeno conocido como regresión hacia la media ). Para Galton, la regresión sólo tenía este significado biológico, pero su trabajo fue extendido más tarde por Udny Yule y Karl Pearson a un contexto estadístico más general. En la obra de Yule y Pearson, la distribución conjunta de la variable respuesta y las variables explicativas se supone que es Gaussiana. "
   ]
  },
  {
   "cell_type": "code",
   "execution_count": null,
   "id": "4a209262",
   "metadata": {},
   "outputs": [],
   "source": []
  },
  {
   "cell_type": "markdown",
   "id": "e207b4f1",
   "metadata": {},
   "source": [
    "## <span style=\"color:Blue\">Casos especiales</span>"
   ]
  },
  {
   "cell_type": "markdown",
   "id": "5e6c631c",
   "metadata": {},
   "source": [
    "\n",
    "\n",
    "$$\\left\\{ \\begin{array}{lcc}\n",
    "               m_kY_k \\sim Binomial(m_k,\\mu_k)\\\\\n",
    "             \\\\ g(\\mu_k) =\\beta_0+ \\beta_1x_{k1}+... +\\beta_px_{kp}\n",
    "             \\end{array}\n",
    "   \\right.\n",
    "$$\n",
    "\n",
    "- Enlace logit \n",
    "$$ g(\\mu_k)=log(\\frac{\\mu_k}{1-\\mu_k})$$\n",
    "- Enlace probit\n",
    "$$g(\\mu_k)=\\Phi^{-1}(\\mu_k)$$\n",
    "- Enlace complemento log-log \n",
    "$$g(\\mu_k)=log(-log(1-\\mu_k))$$\n",
    "- Enlace Cauchy\n",
    "$$g(\\mu_k)=tan(\\frac{\\pi}{2}(2\\mu_k-1))$$"
   ]
  },
  {
   "cell_type": "code",
   "execution_count": 1,
   "id": "4cfd4809",
   "metadata": {},
   "outputs": [],
   "source": [
    "import numpy as np\n",
    "import statsmodels.api as sm\n",
    "from scipy import stats\n",
    "from matplotlib import pyplot as plt\n",
    "\n",
    "plt.rc(\"figure\", figsize=(16,8))\n",
    "plt.rc(\"font\", size=14)"
   ]
  },
  {
   "cell_type": "code",
   "execution_count": 2,
   "id": "8ade8cea",
   "metadata": {},
   "outputs": [],
   "source": [
    "data = sm.datasets.star98.load()\n",
    "data.exog = sm.add_constant(data.exog, prepend=False)"
   ]
  },
  {
   "cell_type": "code",
   "execution_count": 3,
   "id": "996447be",
   "metadata": {},
   "outputs": [
    {
     "name": "stdout",
     "output_type": "stream",
     "text": [
      "                  Generalized Linear Model Regression Results                   \n",
      "================================================================================\n",
      "Dep. Variable:     ['NABOVE', 'NBELOW']   No. Observations:                  303\n",
      "Model:                              GLM   Df Residuals:                      282\n",
      "Model Family:                  Binomial   Df Model:                           20\n",
      "Link Function:                    Logit   Scale:                          1.0000\n",
      "Method:                            IRLS   Log-Likelihood:                -2998.6\n",
      "Date:                  Tue, 22 Nov 2022   Deviance:                       4078.8\n",
      "Time:                          19:02:49   Pearson chi2:                 4.05e+03\n",
      "No. Iterations:                       5   Pseudo R-squ. (CS):              1.000\n",
      "Covariance Type:              nonrobust                                         \n",
      "===========================================================================================\n",
      "                              coef    std err          z      P>|z|      [0.025      0.975]\n",
      "-------------------------------------------------------------------------------------------\n",
      "LOWINC                     -0.0168      0.000    -38.749      0.000      -0.018      -0.016\n",
      "PERASIAN                    0.0099      0.001     16.505      0.000       0.009       0.011\n",
      "PERBLACK                   -0.0187      0.001    -25.182      0.000      -0.020      -0.017\n",
      "PERHISP                    -0.0142      0.000    -32.818      0.000      -0.015      -0.013\n",
      "PERMINTE                    0.2545      0.030      8.498      0.000       0.196       0.313\n",
      "AVYRSEXP                    0.2407      0.057      4.212      0.000       0.129       0.353\n",
      "AVSALK                      0.0804      0.014      5.775      0.000       0.053       0.108\n",
      "PERSPENK                   -1.9522      0.317     -6.162      0.000      -2.573      -1.331\n",
      "PTRATIO                    -0.3341      0.061     -5.453      0.000      -0.454      -0.214\n",
      "PCTAF                      -0.1690      0.033     -5.169      0.000      -0.233      -0.105\n",
      "PCTCHRT                     0.0049      0.001      3.921      0.000       0.002       0.007\n",
      "PCTYRRND                   -0.0036      0.000    -15.878      0.000      -0.004      -0.003\n",
      "PERMINTE_AVYRSEXP          -0.0141      0.002     -7.391      0.000      -0.018      -0.010\n",
      "PERMINTE_AVSAL             -0.0040      0.000     -8.450      0.000      -0.005      -0.003\n",
      "AVYRSEXP_AVSAL             -0.0039      0.001     -4.059      0.000      -0.006      -0.002\n",
      "PERSPEN_PTRATIO             0.0917      0.015      6.321      0.000       0.063       0.120\n",
      "PERSPEN_PCTAF               0.0490      0.007      6.574      0.000       0.034       0.064\n",
      "PTRATIO_PCTAF               0.0080      0.001      5.362      0.000       0.005       0.011\n",
      "PERMINTE_AVYRSEXP_AVSAL     0.0002   2.99e-05      7.428      0.000       0.000       0.000\n",
      "PERSPEN_PTRATIO_PCTAF      -0.0022      0.000     -6.445      0.000      -0.003      -0.002\n",
      "const                       2.9589      1.547      1.913      0.056      -0.073       5.990\n",
      "===========================================================================================\n"
     ]
    }
   ],
   "source": [
    "glm_binom = sm.GLM(data.endog, data.exog, family=sm.families.Binomial())\n",
    "res = glm_binom.fit()\n",
    "print(res.summary())"
   ]
  },
  {
   "cell_type": "code",
   "execution_count": null,
   "id": "528bf6ea",
   "metadata": {},
   "outputs": [],
   "source": []
  }
 ],
 "metadata": {
  "kernelspec": {
   "display_name": "Python 3 (ipykernel)",
   "language": "python",
   "name": "python3"
  },
  "language_info": {
   "codemirror_mode": {
    "name": "ipython",
    "version": 3
   },
   "file_extension": ".py",
   "mimetype": "text/x-python",
   "name": "python",
   "nbconvert_exporter": "python",
   "pygments_lexer": "ipython3",
   "version": "3.9.12"
  }
 },
 "nbformat": 4,
 "nbformat_minor": 5
}
